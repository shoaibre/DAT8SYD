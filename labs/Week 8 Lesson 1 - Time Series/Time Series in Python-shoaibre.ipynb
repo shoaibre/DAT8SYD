{
 "cells": [
  {
   "cell_type": "code",
   "execution_count": 3,
   "metadata": {
    "collapsed": false
   },
   "outputs": [
    {
     "name": "stdout",
     "output_type": "stream",
     "text": [
      "Requirement already satisfied: pystan in c:\\anaconda\\lib\\site-packages\n",
      "Requirement already satisfied: Cython!=0.25.1,>=0.22 in c:\\anaconda\\lib\\site-packages (from pystan)\n",
      "Requirement already satisfied: numpy>=1.7 in c:\\anaconda\\lib\\site-packages (from pystan)\n"
     ]
    }
   ],
   "source": [
    "!pip install pystan"
   ]
  },
  {
   "cell_type": "code",
   "execution_count": 4,
   "metadata": {
    "collapsed": false
   },
   "outputs": [
    {
     "name": "stdout",
     "output_type": "stream",
     "text": [
      "Collecting fbprophet\n",
      "  Downloading fbprophet-0.1.1.tar.gz\n",
      "Requirement already satisfied: matplotlib in c:\\anaconda\\lib\\site-packages (from fbprophet)\n",
      "Requirement already satisfied: numpy in c:\\anaconda\\lib\\site-packages (from fbprophet)\n",
      "Requirement already satisfied: pandas>=0.18.1 in c:\\anaconda\\lib\\site-packages (from fbprophet)\n",
      "Requirement already satisfied: pystan>=2.14 in c:\\anaconda\\lib\\site-packages (from fbprophet)\n",
      "Requirement already satisfied: six>=1.10 in c:\\anaconda\\lib\\site-packages (from matplotlib->fbprophet)\n",
      "Requirement already satisfied: python-dateutil in c:\\anaconda\\lib\\site-packages (from matplotlib->fbprophet)\n",
      "Requirement already satisfied: pytz in c:\\anaconda\\lib\\site-packages (from matplotlib->fbprophet)\n",
      "Requirement already satisfied: cycler>=0.10 in c:\\anaconda\\lib\\site-packages (from matplotlib->fbprophet)\n",
      "Requirement already satisfied: pyparsing!=2.0.4,!=2.1.2,!=2.1.6,>=1.5.6 in c:\\anaconda\\lib\\site-packages (from matplotlib->fbprophet)\n",
      "Requirement already satisfied: Cython!=0.25.1,>=0.22 in c:\\anaconda\\lib\\site-packages (from pystan>=2.14->fbprophet)\n",
      "Building wheels for collected packages: fbprophet\n",
      "  Running setup.py bdist_wheel for fbprophet: started\n",
      "  Running setup.py bdist_wheel for fbprophet: finished with status 'error'\n",
      "  Complete output from command C:\\ANACONDA\\python.exe -u -c \"import setuptools, tokenize;__file__='C:\\\\Users\\\\SHOAIB~1\\\\AppData\\\\Local\\\\Temp\\\\pip-build-kh2kovh3\\\\fbprophet\\\\setup.py';f=getattr(tokenize, 'open', open)(__file__);code=f.read().replace('\\r\\n', '\\n');f.close();exec(compile(code, __file__, 'exec'))\" bdist_wheel -d C:\\Users\\SHOAIB~1\\AppData\\Local\\Temp\\tmpb0db6_cepip-wheel- --python-tag cp36:\n",
      "  running bdist_wheel\n",
      "  running build\n",
      "  running build_py\n",
      "  creating build\n",
      "  creating build\\lib\n",
      "  creating build\\lib\\fbprophet\n",
      "  creating build\\lib\\fbprophet\\stan_models\n",
      "  INFO:pystan:COMPILING THE C++ CODE FOR MODEL anon_model_9c941523472e65f75f241e35a8769919 NOW.\n",
      "  error: Microsoft Visual C++ 14.0 is required. Get it with \"Microsoft Visual C++ Build Tools\": http://landinghub.visualstudio.com/visual-cpp-build-tools\n",
      "  \n",
      "  ----------------------------------------\n",
      "  Running setup.py clean for fbprophet\n",
      "Failed to build fbprophet\n",
      "Installing collected packages: fbprophet\n",
      "  Running setup.py install for fbprophet: started\n",
      "    Running setup.py install for fbprophet: finished with status 'error'\n",
      "    Complete output from command C:\\ANACONDA\\python.exe -u -c \"import setuptools, tokenize;__file__='C:\\\\Users\\\\SHOAIB~1\\\\AppData\\\\Local\\\\Temp\\\\pip-build-kh2kovh3\\\\fbprophet\\\\setup.py';f=getattr(tokenize, 'open', open)(__file__);code=f.read().replace('\\r\\n', '\\n');f.close();exec(compile(code, __file__, 'exec'))\" install --record C:\\Users\\SHOAIB~1\\AppData\\Local\\Temp\\pip-xdd0lr5d-record\\install-record.txt --single-version-externally-managed --compile:\n",
      "    running install\n",
      "    running build\n",
      "    running build_py\n",
      "    creating build\n",
      "    creating build\\lib\n",
      "    creating build\\lib\\fbprophet\n",
      "    creating build\\lib\\fbprophet\\stan_models\n",
      "    INFO:pystan:COMPILING THE C++ CODE FOR MODEL anon_model_9c941523472e65f75f241e35a8769919 NOW.\n",
      "    error: Microsoft Visual C++ 14.0 is required. Get it with \"Microsoft Visual C++ Build Tools\": http://landinghub.visualstudio.com/visual-cpp-build-tools\n",
      "    \n",
      "    ----------------------------------------\n"
     ]
    },
    {
     "name": "stderr",
     "output_type": "stream",
     "text": [
      "  Failed building wheel for fbprophet\n",
      "Command \"C:\\ANACONDA\\python.exe -u -c \"import setuptools, tokenize;__file__='C:\\\\Users\\\\SHOAIB~1\\\\AppData\\\\Local\\\\Temp\\\\pip-build-kh2kovh3\\\\fbprophet\\\\setup.py';f=getattr(tokenize, 'open', open)(__file__);code=f.read().replace('\\r\\n', '\\n');f.close();exec(compile(code, __file__, 'exec'))\" install --record C:\\Users\\SHOAIB~1\\AppData\\Local\\Temp\\pip-xdd0lr5d-record\\install-record.txt --single-version-externally-managed --compile\" failed with error code 1 in C:\\Users\\SHOAIB~1\\AppData\\Local\\Temp\\pip-build-kh2kovh3\\fbprophet\\\n"
     ]
    }
   ],
   "source": [
    "!pip install fbprophet"
   ]
  },
  {
   "cell_type": "code",
   "execution_count": 5,
   "metadata": {
    "collapsed": false
   },
   "outputs": [
    {
     "ename": "ModuleNotFoundError",
     "evalue": "No module named 'fbprophet'",
     "output_type": "error",
     "traceback": [
      "\u001b[0;31m---------------------------------------------------------------------------\u001b[0m",
      "\u001b[0;31mModuleNotFoundError\u001b[0m                       Traceback (most recent call last)",
      "\u001b[0;32m<ipython-input-5-f5734c0ba78a>\u001b[0m in \u001b[0;36m<module>\u001b[0;34m()\u001b[0m\n\u001b[1;32m      2\u001b[0m \u001b[1;32mimport\u001b[0m \u001b[0mpandas\u001b[0m \u001b[1;32mas\u001b[0m \u001b[0mpd\u001b[0m\u001b[1;33m\u001b[0m\u001b[0m\n\u001b[1;32m      3\u001b[0m \u001b[1;32mimport\u001b[0m \u001b[0mnumpy\u001b[0m \u001b[1;32mas\u001b[0m \u001b[0mnp\u001b[0m\u001b[1;33m\u001b[0m\u001b[0m\n\u001b[0;32m----> 4\u001b[0;31m \u001b[1;32mfrom\u001b[0m \u001b[0mfbprophet\u001b[0m \u001b[1;32mimport\u001b[0m \u001b[0mProphet\u001b[0m\u001b[1;33m\u001b[0m\u001b[0m\n\u001b[0m",
      "\u001b[0;31mModuleNotFoundError\u001b[0m: No module named 'fbprophet'"
     ]
    }
   ],
   "source": [
    "# Import libraries\n",
    "import pandas as pd\n",
    "import numpy as np\n",
    "from fbprophet import Prophet"
   ]
  },
  {
   "cell_type": "code",
   "execution_count": null,
   "metadata": {
    "collapsed": false
   },
   "outputs": [],
   "source": [
    "# Read in data\n",
    "df = pd.read_csv('../../data/example_wp_peyton_manning.csv')\n",
    "df['y'] = np.log(df['y'])\n",
    "df.head()"
   ]
  },
  {
   "cell_type": "code",
   "execution_count": null,
   "metadata": {
    "collapsed": true
   },
   "outputs": [],
   "source": [
    "# Fit a time series model\n",
    "m = Prophet()\n",
    "m.fit(df);"
   ]
  },
  {
   "cell_type": "code",
   "execution_count": null,
   "metadata": {
    "collapsed": false
   },
   "outputs": [],
   "source": [
    "# Predict future time series\n",
    "future = m.make_future_dataframe(periods=365)\n",
    "future.tail()"
   ]
  },
  {
   "cell_type": "code",
   "execution_count": null,
   "metadata": {
    "collapsed": false
   },
   "outputs": [],
   "source": [
    "# Attach predicted values - yhat\n",
    "forecast = m.predict(future)\n",
    "forecast[['ds', 'yhat', 'yhat_lower', 'yhat_upper']].tail()\n"
   ]
  },
  {
   "cell_type": "code",
   "execution_count": null,
   "metadata": {
    "collapsed": false
   },
   "outputs": [],
   "source": [
    "# Plot the forecasted values\n",
    "from matplotlib import pyplot as plt\n",
    "%matplotlib inline\n",
    "\n",
    "m.plot(forecast);"
   ]
  },
  {
   "cell_type": "code",
   "execution_count": null,
   "metadata": {
    "collapsed": false
   },
   "outputs": [],
   "source": [
    "# Time Series Decomposition\n",
    "m.plot_components(forecast);"
   ]
  }
 ],
 "metadata": {
  "kernelspec": {
   "display_name": "Python 3",
   "language": "python",
   "name": "python3"
  },
  "language_info": {
   "codemirror_mode": {
    "name": "ipython",
    "version": 3
   },
   "file_extension": ".py",
   "mimetype": "text/x-python",
   "name": "python",
   "nbconvert_exporter": "python",
   "pygments_lexer": "ipython3",
   "version": "3.6.0"
  }
 },
 "nbformat": 4,
 "nbformat_minor": 2
}
