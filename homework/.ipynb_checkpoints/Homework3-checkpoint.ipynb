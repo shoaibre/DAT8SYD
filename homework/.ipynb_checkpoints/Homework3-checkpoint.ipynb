{
 "cells": [
  {
   "cell_type": "markdown",
   "metadata": {},
   "source": [
    "# SYD DAT 8 Homework 3 - Visualisation and Regression\n",
    "\n",
    "## Homework - Due Friday 14th July - Midnight\n",
    "\n",
    "#### Communication\n",
    "Pick one data science topic that interests you, could be an article, or how a Kaggle competition was won, or an article incorporating data journalism. Write a 3 minute presentation with 3 slides. You should explain, what was done, the motivation behind it, the results and what you can think of that would improve the project.\n",
    "\n",
    "We will present these in class on Tuesday 18th July and Thursday 20th July to practice presentation skills.\n",
    "\n",
    "Direct message me over Slack with the slides on Monday 17th July so I can put the class slides together.\n",
    "\n",
    "#### Course Project\n",
    "Share with a me a ipython notebook containing the following:\n",
    "* Data read into python in a data frame\n",
    "* A statistical summary of your data\n",
    "* A visualisation of your data\n",
    "* One of the following with your data; Linear or Logistic Regression (with regularization), or Clustering.\n",
    "* A written summary at the end describing your data\n",
    "\n",
    "**Instructions: Send me the slides on Monday 17th July and have the notebook in your project repository by 14th July**"
   ]
  },
  {
   "cell_type": "code",
   "execution_count": null,
   "metadata": {
    "collapsed": true
   },
   "outputs": [],
   "source": []
  }
 ],
 "metadata": {
  "kernelspec": {
   "display_name": "Python 3",
   "language": "python",
   "name": "python3"
  },
  "language_info": {
   "codemirror_mode": {
    "name": "ipython",
    "version": 3
   },
   "file_extension": ".py",
   "mimetype": "text/x-python",
   "name": "python",
   "nbconvert_exporter": "python",
   "pygments_lexer": "ipython3",
   "version": "3.6.0"
  }
 },
 "nbformat": 4,
 "nbformat_minor": 0
}
