{
 "cells": [
  {
   "cell_type": "code",
   "execution_count": 3,
   "metadata": {
    "collapsed": false
   },
   "outputs": [
    {
     "name": "stdout",
     "output_type": "stream",
     "text": [
      "Collecting tensorflow\n",
      "  Downloading tensorflow-1.2.1-cp36-cp36m-win_amd64.whl (21.2MB)\n",
      "Collecting werkzeug>=0.11.10 (from tensorflow)\n",
      "  Downloading Werkzeug-0.12.2-py2.py3-none-any.whl (312kB)\n",
      "Collecting markdown>=2.6.8 (from tensorflow)\n",
      "  Downloading Markdown-2.6.8.tar.gz (307kB)\n",
      "Requirement already up-to-date: wheel>=0.26 in c:\\anaconda\\lib\\site-packages (from tensorflow)\n",
      "Collecting bleach==1.5.0 (from tensorflow)\n",
      "  Downloading bleach-1.5.0-py2.py3-none-any.whl\n",
      "Collecting numpy>=1.11.0 (from tensorflow)\n",
      "  Downloading numpy-1.13.1-cp36-none-win_amd64.whl (7.8MB)\n",
      "Collecting protobuf>=3.2.0 (from tensorflow)\n",
      "  Downloading protobuf-3.3.0.tar.gz (271kB)\n",
      "Requirement already up-to-date: six>=1.10.0 in c:\\anaconda\\lib\\site-packages (from tensorflow)\n",
      "Collecting backports.weakref==1.0rc1 (from tensorflow)\n",
      "  Downloading backports.weakref-1.0rc1-py3-none-any.whl\n",
      "Collecting html5lib==0.9999999 (from tensorflow)\n",
      "  Downloading html5lib-0.9999999.tar.gz (889kB)\n",
      "Collecting setuptools (from protobuf>=3.2.0->tensorflow)\n",
      "  Downloading setuptools-36.2.0-py2.py3-none-any.whl (477kB)\n",
      "Building wheels for collected packages: markdown, protobuf, html5lib\n",
      "  Running setup.py bdist_wheel for markdown: started\n",
      "  Running setup.py bdist_wheel for markdown: finished with status 'done'\n",
      "  Stored in directory: C:\\Users\\Shoaib Rehman\\AppData\\Local\\pip\\Cache\\wheels\\85\\a7\\08\\33ee5cd488d0365d8bed79d1d4e5c28dd3fbfc7f6d0ad4bb09\n",
      "  Running setup.py bdist_wheel for protobuf: started\n",
      "  Running setup.py bdist_wheel for protobuf: finished with status 'done'\n",
      "  Stored in directory: C:\\Users\\Shoaib Rehman\\AppData\\Local\\pip\\Cache\\wheels\\1b\\42\\a0\\4c7343df5b629ec9c75655468dce7652b28026896b0209ba55\n",
      "  Running setup.py bdist_wheel for html5lib: started\n",
      "  Running setup.py bdist_wheel for html5lib: finished with status 'done'\n",
      "  Stored in directory: C:\\Users\\Shoaib Rehman\\AppData\\Local\\pip\\Cache\\wheels\\6f\\85\\6c\\56b8e1292c6214c4eb73b9dda50f53e8e977bf65989373c962\n",
      "Successfully built markdown protobuf html5lib\n",
      "Installing collected packages: werkzeug, markdown, html5lib, bleach, numpy, setuptools, protobuf, backports.weakref, tensorflow\n",
      "  Found existing installation: Werkzeug 0.11.15\n",
      "    Uninstalling Werkzeug-0.11.15:\n",
      "      Successfully uninstalled Werkzeug-0.11.15\n",
      "  Found existing installation: numpy 1.11.3\n",
      "    Uninstalling numpy-1.11.3:\n",
      "      Successfully uninstalled numpy-1.11.3\n"
     ]
    },
    {
     "name": "stderr",
     "output_type": "stream",
     "text": [
      "Exception:\n",
      "Traceback (most recent call last):\n",
      "  File \"C:\\ANACONDA\\lib\\shutil.py\", line 381, in _rmtree_unsafe\n",
      "    os.unlink(fullname)\n",
      "PermissionError: [WinError 5] Access is denied: 'C:\\\\Users\\\\SHOAIB~1\\\\AppData\\\\Local\\\\Temp\\\\pip-3gi4my54-uninstall\\\\anaconda\\\\lib\\\\site-packages\\\\numpy\\\\core\\\\multiarray.cp36-win_amd64.pyd'\n",
      "\n",
      "During handling of the above exception, another exception occurred:\n",
      "\n",
      "Traceback (most recent call last):\n",
      "  File \"C:\\ANACONDA\\lib\\site-packages\\pip\\basecommand.py\", line 215, in main\n",
      "    status = self.run(options, args)\n",
      "  File \"C:\\ANACONDA\\lib\\site-packages\\pip\\commands\\install.py\", line 342, in run\n",
      "    prefix=options.prefix_path,\n",
      "  File \"C:\\ANACONDA\\lib\\site-packages\\pip\\req\\req_set.py\", line 795, in install\n",
      "    requirement.commit_uninstall()\n",
      "  File \"C:\\ANACONDA\\lib\\site-packages\\pip\\req\\req_install.py\", line 767, in commit_uninstall\n",
      "    self.uninstalled.commit()\n",
      "  File \"C:\\ANACONDA\\lib\\site-packages\\pip\\req\\req_uninstall.py\", line 142, in commit\n",
      "    rmtree(self.save_dir)\n",
      "  File \"C:\\ANACONDA\\lib\\site-packages\\pip\\_vendor\\retrying.py\", line 49, in wrapped_f\n",
      "    return Retrying(*dargs, **dkw).call(f, *args, **kw)\n",
      "  File \"C:\\ANACONDA\\lib\\site-packages\\pip\\_vendor\\retrying.py\", line 212, in call\n",
      "    raise attempt.get()\n",
      "  File \"C:\\ANACONDA\\lib\\site-packages\\pip\\_vendor\\retrying.py\", line 247, in get\n",
      "    six.reraise(self.value[0], self.value[1], self.value[2])\n",
      "  File \"C:\\ANACONDA\\lib\\site-packages\\pip\\_vendor\\six.py\", line 686, in reraise\n",
      "    raise value\n",
      "  File \"C:\\ANACONDA\\lib\\site-packages\\pip\\_vendor\\retrying.py\", line 200, in call\n",
      "    attempt = Attempt(fn(*args, **kwargs), attempt_number, False)\n",
      "  File \"C:\\ANACONDA\\lib\\site-packages\\pip\\utils\\__init__.py\", line 102, in rmtree\n",
      "    onerror=rmtree_errorhandler)\n",
      "  File \"C:\\ANACONDA\\lib\\shutil.py\", line 488, in rmtree\n",
      "    return _rmtree_unsafe(path, onerror)\n",
      "  File \"C:\\ANACONDA\\lib\\shutil.py\", line 378, in _rmtree_unsafe\n",
      "    _rmtree_unsafe(fullname, onerror)\n",
      "  File \"C:\\ANACONDA\\lib\\shutil.py\", line 378, in _rmtree_unsafe\n",
      "    _rmtree_unsafe(fullname, onerror)\n",
      "  File \"C:\\ANACONDA\\lib\\shutil.py\", line 378, in _rmtree_unsafe\n",
      "    _rmtree_unsafe(fullname, onerror)\n",
      "  [Previous line repeated 1 more times]\n",
      "  File \"C:\\ANACONDA\\lib\\shutil.py\", line 383, in _rmtree_unsafe\n",
      "    onerror(os.unlink, fullname, sys.exc_info())\n",
      "  File \"C:\\ANACONDA\\lib\\site-packages\\pip\\utils\\__init__.py\", line 114, in rmtree_errorhandler\n",
      "    func(path)\n",
      "PermissionError: [WinError 5] Access is denied: 'C:\\\\Users\\\\SHOAIB~1\\\\AppData\\\\Local\\\\Temp\\\\pip-3gi4my54-uninstall\\\\anaconda\\\\lib\\\\site-packages\\\\numpy\\\\core\\\\multiarray.cp36-win_amd64.pyd'\n"
     ]
    }
   ],
   "source": [
    "!pip install --upgrade tensorflow"
   ]
  },
  {
   "cell_type": "code",
   "execution_count": null,
   "metadata": {
    "collapsed": true
   },
   "outputs": [],
   "source": []
  }
 ],
 "metadata": {
  "kernelspec": {
   "display_name": "Python 3",
   "language": "python",
   "name": "python3"
  },
  "language_info": {
   "codemirror_mode": {
    "name": "ipython",
    "version": 3
   },
   "file_extension": ".py",
   "mimetype": "text/x-python",
   "name": "python",
   "nbconvert_exporter": "python",
   "pygments_lexer": "ipython3",
   "version": "3.6.0"
  }
 },
 "nbformat": 4,
 "nbformat_minor": 2
}
