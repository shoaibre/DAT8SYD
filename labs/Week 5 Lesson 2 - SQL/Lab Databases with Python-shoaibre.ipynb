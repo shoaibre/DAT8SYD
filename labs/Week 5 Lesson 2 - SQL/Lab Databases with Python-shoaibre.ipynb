{
 "cells": [
  {
   "cell_type": "markdown",
   "metadata": {},
   "source": [
    "# Data Science Part Time Course\n",
    "\n",
    "## Week 5 - Lesson 2 - Lab: Databases with Python\n",
    "\n",
    "In this Lab the goal is connect to a database (created form a local file), read the data into Python and interact with it."
   ]
  },
  {
   "cell_type": "markdown",
   "metadata": {},
   "source": [
    "## 1. Data import\n",
    "\n",
    "Connect to the file 'assets/datasets/enron.db' using one of these methods:\n",
    "\n",
    "- sqlite3 python package\n",
    "- pandas.read_sql\n",
    "- SQLite Manager Firefox extension\n",
    "\n",
    "Take a look at the database and query the master table. How many Tables are there in the db?\n",
    "\n",
    "> Answer:\n",
    "There are 3 tables:\n",
    "- MessageBase\n",
    "- RecipientBase\n",
    "- EmployeeBase"
   ]
  },
  {
   "cell_type": "code",
   "execution_count": 1,
   "metadata": {
    "collapsed": false
   },
   "outputs": [
    {
     "data": {
      "text/plain": [
       "[('MessageBase',), ('RecipientBase',), ('EmployeeBase',)]"
      ]
     },
     "execution_count": 1,
     "metadata": {},
     "output_type": "execute_result"
    }
   ],
   "source": [
    "import sqlite3\n",
    "conn = sqlite3.connect('enron.db') \n",
    "c = conn.cursor()\n",
    "c.execute(\"SELECT name FROM sqlite_master WHERE type='table';\").fetchall()"
   ]
  },
  {
   "cell_type": "markdown",
   "metadata": {},
   "source": [
    "Query the `sqlite_master` table to retrieve the **schema** of the `EmployeeBase` table.\n",
    "\n",
    "1. What fields are there?\n",
    "1. What's the type of each of them?"
   ]
  },
  {
   "cell_type": "code",
   "execution_count": 6,
   "metadata": {
    "collapsed": false
   },
   "outputs": [
    {
     "name": "stdout",
     "output_type": "stream",
     "text": [
      "CREATE TABLE MessageBase (\n",
      "    mid INTEGER,\n",
      "    filename TEXT,\n",
      "    unix_time INTEGER,\n",
      "    subject TEXT,\n",
      "    from_eid INTEGER,\n",
      "    \n",
      "    PRIMARY KEY(mid ASC),\n",
      "    FOREIGN KEY(from_eid) REFERENCES Employee(eid)\n",
      ")\n",
      "CREATE TABLE RecipientBase (\n",
      "    mid INTEGER,\n",
      "    rno INTEGER,\n",
      "    to_eid INTEGER,\n",
      "    \n",
      "    PRIMARY KEY(mid ASC, rno ASC)\n",
      "    FOREIGN KEY(mid) REFERENCES Message(mid)\n",
      "    FOREIGN KEY(to_eid) REFERENCES Employee(eid)\n",
      ")\n",
      "CREATE TABLE EmployeeBase (\n",
      "                  [eid] INTEGER,\n",
      "  [name] TEXT,\n",
      "  [department] TEXT,\n",
      "  [longdepartment] TEXT,\n",
      "  [title] TEXT,\n",
      "  [gender] TEXT,\n",
      "  [seniority] TEXT\n",
      "                  \n",
      "                  )\n"
     ]
    }
   ],
   "source": [
    "fields = c.execute(\"SELECT sql from sqlite_master WHERE type='table' and name='MessageBase';\").fetchall()\n",
    "print (''.join(fields[0]))\n",
    "\n",
    "fields = c.execute(\"SELECT sql from sqlite_master WHERE type='table' and name='RecipientBase';\").fetchall()\n",
    "print (''.join(fields[0]))\n",
    "\n",
    "fields = c.execute(\"SELECT sql from sqlite_master WHERE type='table' and name='EmployeeBase';\").fetchall()\n",
    "print (''.join(fields[0]))"
   ]
  },
  {
   "cell_type": "markdown",
   "metadata": {},
   "source": [
    "1. Print the first 5 rows of EmployeeBase table\n",
    "1. Print the first 5 rows of MessageBase table\n",
    "1. Print the first 5 rows of RecipientBase table\n",
    "\n",
    "**Hint**  use `SELECT` and `LIMIT`."
   ]
  },
  {
   "cell_type": "code",
   "execution_count": 4,
   "metadata": {
    "collapsed": false
   },
   "outputs": [
    {
     "name": "stdout",
     "output_type": "stream",
     "text": [
      "(1, 'John Arnold', 'Forestry', 'ENA Gas Financial', 'VP Trading', 'Male', 'Senior')\n",
      "(2, 'Harry Arora', 'Forestry', 'ENA East Power', 'VP Trading', 'Male', 'Senior')\n",
      "(3, 'Robert Badeer', 'Forestry', 'ENA West Power', 'Mgr Trading', 'Male', 'Junior')\n",
      "(4, 'Susan Bailey', 'Legal', 'ENA Legal', 'Specialist Legal', 'Female', 'Junior')\n",
      "(5, 'Eric Bass', 'Forestry', 'ENA Gas Texas', 'Trader', 'Male', 'Junior')\n"
     ]
    }
   ],
   "source": [
    "results = c.execute(\"SELECT * FROM EmployeeBase LIMIT 5;\").fetchall()\n",
    "for row in results:\n",
    "    print (row)"
   ]
  },
  {
   "cell_type": "code",
   "execution_count": 11,
   "metadata": {
    "collapsed": false
   },
   "outputs": [
    {
     "name": "stdout",
     "output_type": "stream",
     "text": [
      "(1, 'taylor-m/sent/11', 910930020, 'Cd$ CME letter', 138)\n",
      "(2, 'taylor-m/sent/17', 911459940, 'Indemnification', 138)\n",
      "(3, 'taylor-m/sent/18', 911463840, 'Re: Indemnification', 138)\n",
      "(4, 'taylor-m/sent/23', 911874180, 'Re: Coral Energy, L.P.', 138)\n",
      "(5, 'taylor-m/sent/27', 912396120, 'Bankruptcy Code revisions', 138)\n"
     ]
    }
   ],
   "source": [
    "results = c.execute(\"SELECT * FROM MessageBase LIMIT 5;\").fetchall()\n",
    "for row in results:\n",
    "    print (row)"
   ]
  },
  {
   "cell_type": "code",
   "execution_count": 12,
   "metadata": {
    "collapsed": false,
    "scrolled": true
   },
   "outputs": [
    {
     "name": "stdout",
     "output_type": "stream",
     "text": [
      "(1, 1, 59)\n",
      "(2, 1, 15)\n",
      "(3, 1, 15)\n",
      "(4, 1, 109)\n",
      "(4, 2, 49)\n",
      "(4, 3, 120)\n",
      "(4, 4, 59)\n",
      "(5, 1, 45)\n",
      "(5, 2, 53)\n",
      "(6, 1, 113)\n"
     ]
    }
   ],
   "source": [
    "results = c.execute(\"SELECT * FROM RecipientBase LIMIT 10;\").fetchall()\n",
    "for row in results:\n",
    "    print (row)\n",
    "    \n",
    "# The first field is message id, the second is recipient number, and the third is the id of the recipient.\n",
    "# mid, rno, to_eid"
   ]
  },
  {
   "cell_type": "markdown",
   "metadata": {},
   "source": [
    "Now try other SQL statements on the local database, such as SELECT .... FROM ... WHERE ....\n",
    "\n",
    "For example, print the records of EmployeeBase where the Gender is male "
   ]
  },
  {
   "cell_type": "code",
   "execution_count": null,
   "metadata": {
    "collapsed": true
   },
   "outputs": [],
   "source": []
  },
  {
   "cell_type": "markdown",
   "metadata": {},
   "source": [
    "#### Import each of the 3 tables to a Pandas Dataframes"
   ]
  },
  {
   "cell_type": "code",
   "execution_count": 9,
   "metadata": {
    "collapsed": true
   },
   "outputs": [],
   "source": [
    "import pandas as pd\n",
    "employees = pd.read_sql(\"SELECT * FROM EmployeeBase;\", conn)\n",
    "recipients = pd.read_sql(\"SELECT * FROM RecipientBase;\", conn)\n",
    "messages = pd.read_sql(\"SELECT * FROM MessageBase;\", conn)"
   ]
  },
  {
   "cell_type": "code",
   "execution_count": 10,
   "metadata": {
    "collapsed": false
   },
   "outputs": [
    {
     "data": {
      "text/html": [
       "<div>\n",
       "<table border=\"1\" class=\"dataframe\">\n",
       "  <thead>\n",
       "    <tr style=\"text-align: right;\">\n",
       "      <th></th>\n",
       "      <th>mid</th>\n",
       "      <th>rno</th>\n",
       "      <th>to_eid</th>\n",
       "    </tr>\n",
       "  </thead>\n",
       "  <tbody>\n",
       "    <tr>\n",
       "      <th>0</th>\n",
       "      <td>1</td>\n",
       "      <td>1</td>\n",
       "      <td>59</td>\n",
       "    </tr>\n",
       "    <tr>\n",
       "      <th>1</th>\n",
       "      <td>2</td>\n",
       "      <td>1</td>\n",
       "      <td>15</td>\n",
       "    </tr>\n",
       "    <tr>\n",
       "      <th>2</th>\n",
       "      <td>3</td>\n",
       "      <td>1</td>\n",
       "      <td>15</td>\n",
       "    </tr>\n",
       "    <tr>\n",
       "      <th>3</th>\n",
       "      <td>4</td>\n",
       "      <td>1</td>\n",
       "      <td>109</td>\n",
       "    </tr>\n",
       "    <tr>\n",
       "      <th>4</th>\n",
       "      <td>4</td>\n",
       "      <td>2</td>\n",
       "      <td>49</td>\n",
       "    </tr>\n",
       "    <tr>\n",
       "      <th>5</th>\n",
       "      <td>4</td>\n",
       "      <td>3</td>\n",
       "      <td>120</td>\n",
       "    </tr>\n",
       "    <tr>\n",
       "      <th>6</th>\n",
       "      <td>4</td>\n",
       "      <td>4</td>\n",
       "      <td>59</td>\n",
       "    </tr>\n",
       "    <tr>\n",
       "      <th>7</th>\n",
       "      <td>5</td>\n",
       "      <td>1</td>\n",
       "      <td>45</td>\n",
       "    </tr>\n",
       "    <tr>\n",
       "      <th>8</th>\n",
       "      <td>5</td>\n",
       "      <td>2</td>\n",
       "      <td>53</td>\n",
       "    </tr>\n",
       "    <tr>\n",
       "      <th>9</th>\n",
       "      <td>6</td>\n",
       "      <td>1</td>\n",
       "      <td>113</td>\n",
       "    </tr>\n",
       "  </tbody>\n",
       "</table>\n",
       "</div>"
      ],
      "text/plain": [
       "   mid  rno  to_eid\n",
       "0    1    1      59\n",
       "1    2    1      15\n",
       "2    3    1      15\n",
       "3    4    1     109\n",
       "4    4    2      49\n",
       "5    4    3     120\n",
       "6    4    4      59\n",
       "7    5    1      45\n",
       "8    5    2      53\n",
       "9    6    1     113"
      ]
     },
     "execution_count": 10,
     "metadata": {},
     "output_type": "execute_result"
    }
   ],
   "source": [
    "recipients.head(10)"
   ]
  },
  {
   "cell_type": "markdown",
   "metadata": {},
   "source": [
    "## 2. Data Exploration\n",
    "\n",
    "Use the 3 dataframes to answer the following questions:\n",
    "\n",
    "1. How many employees are there in the company?\n",
    "- How many messages are there in the database?\n",
    "- Some messages are sent to more than one recipient. Group the messages by message_id and count the number of recepients. Then look at the distribution of recepient numbers.\n",
    "    - How many messages have only one recepient?\n",
    "    - How many messages have >= 5 recepients?\n",
    "    - What's the highest number of recepients?\n",
    "    - Who sent the message with the highest number of recepients?\n",
    "- Plot the distribution of recepient numbers using Bokeh."
   ]
  },
  {
   "cell_type": "code",
   "execution_count": 14,
   "metadata": {
    "collapsed": false
   },
   "outputs": [
    {
     "data": {
      "text/plain": [
       "eid               156\n",
       "name              156\n",
       "department        156\n",
       "longdepartment    156\n",
       "title             156\n",
       "gender            156\n",
       "seniority         156\n",
       "dtype: int64"
      ]
     },
     "execution_count": 14,
     "metadata": {},
     "output_type": "execute_result"
    }
   ],
   "source": [
    "employees.count()\n"
   ]
  },
  {
   "cell_type": "code",
   "execution_count": 15,
   "metadata": {
    "collapsed": false
   },
   "outputs": [
    {
     "data": {
      "text/plain": [
       "mid          21635\n",
       "filename     21635\n",
       "unix_time    21635\n",
       "subject      21635\n",
       "from_eid     21635\n",
       "dtype: int64"
      ]
     },
     "execution_count": 15,
     "metadata": {},
     "output_type": "execute_result"
    }
   ],
   "source": [
    "messages.count()"
   ]
  },
  {
   "cell_type": "code",
   "execution_count": 31,
   "metadata": {
    "collapsed": false
   },
   "outputs": [
    {
     "data": {
      "text/html": [
       "<div>\n",
       "<table border=\"1\" class=\"dataframe\">\n",
       "  <thead>\n",
       "    <tr style=\"text-align: right;\">\n",
       "      <th></th>\n",
       "      <th>mid</th>\n",
       "      <th>rno</th>\n",
       "      <th>to_eid</th>\n",
       "    </tr>\n",
       "  </thead>\n",
       "  <tbody>\n",
       "    <tr>\n",
       "      <th>0</th>\n",
       "      <td>1</td>\n",
       "      <td>1</td>\n",
       "      <td>59</td>\n",
       "    </tr>\n",
       "    <tr>\n",
       "      <th>1</th>\n",
       "      <td>2</td>\n",
       "      <td>1</td>\n",
       "      <td>15</td>\n",
       "    </tr>\n",
       "    <tr>\n",
       "      <th>2</th>\n",
       "      <td>3</td>\n",
       "      <td>1</td>\n",
       "      <td>15</td>\n",
       "    </tr>\n",
       "    <tr>\n",
       "      <th>3</th>\n",
       "      <td>4</td>\n",
       "      <td>1</td>\n",
       "      <td>109</td>\n",
       "    </tr>\n",
       "    <tr>\n",
       "      <th>4</th>\n",
       "      <td>4</td>\n",
       "      <td>2</td>\n",
       "      <td>49</td>\n",
       "    </tr>\n",
       "  </tbody>\n",
       "</table>\n",
       "</div>"
      ],
      "text/plain": [
       "   mid  rno  to_eid\n",
       "0    1    1      59\n",
       "1    2    1      15\n",
       "2    3    1      15\n",
       "3    4    1     109\n",
       "4    4    2      49"
      ]
     },
     "execution_count": 31,
     "metadata": {},
     "output_type": "execute_result"
    }
   ],
   "source": [
    "recipients.head()"
   ]
  },
  {
   "cell_type": "code",
   "execution_count": 40,
   "metadata": {
    "collapsed": false
   },
   "outputs": [
    {
     "data": {
      "text/html": [
       "<div>\n",
       "<table border=\"1\" class=\"dataframe\">\n",
       "  <thead>\n",
       "    <tr>\n",
       "      <th></th>\n",
       "      <th>rno</th>\n",
       "      <th>to_eid</th>\n",
       "    </tr>\n",
       "    <tr>\n",
       "      <th></th>\n",
       "      <th>count</th>\n",
       "      <th>count</th>\n",
       "    </tr>\n",
       "    <tr>\n",
       "      <th>mid</th>\n",
       "      <th></th>\n",
       "      <th></th>\n",
       "    </tr>\n",
       "  </thead>\n",
       "  <tbody>\n",
       "    <tr>\n",
       "      <th>1</th>\n",
       "      <td>1</td>\n",
       "      <td>1</td>\n",
       "    </tr>\n",
       "    <tr>\n",
       "      <th>2</th>\n",
       "      <td>1</td>\n",
       "      <td>1</td>\n",
       "    </tr>\n",
       "    <tr>\n",
       "      <th>3</th>\n",
       "      <td>1</td>\n",
       "      <td>1</td>\n",
       "    </tr>\n",
       "    <tr>\n",
       "      <th>4</th>\n",
       "      <td>4</td>\n",
       "      <td>4</td>\n",
       "    </tr>\n",
       "    <tr>\n",
       "      <th>5</th>\n",
       "      <td>2</td>\n",
       "      <td>2</td>\n",
       "    </tr>\n",
       "    <tr>\n",
       "      <th>6</th>\n",
       "      <td>1</td>\n",
       "      <td>1</td>\n",
       "    </tr>\n",
       "    <tr>\n",
       "      <th>7</th>\n",
       "      <td>1</td>\n",
       "      <td>1</td>\n",
       "    </tr>\n",
       "    <tr>\n",
       "      <th>8</th>\n",
       "      <td>1</td>\n",
       "      <td>1</td>\n",
       "    </tr>\n",
       "    <tr>\n",
       "      <th>9</th>\n",
       "      <td>1</td>\n",
       "      <td>1</td>\n",
       "    </tr>\n",
       "    <tr>\n",
       "      <th>10</th>\n",
       "      <td>1</td>\n",
       "      <td>1</td>\n",
       "    </tr>\n",
       "    <tr>\n",
       "      <th>11</th>\n",
       "      <td>1</td>\n",
       "      <td>1</td>\n",
       "    </tr>\n",
       "    <tr>\n",
       "      <th>12</th>\n",
       "      <td>3</td>\n",
       "      <td>3</td>\n",
       "    </tr>\n",
       "    <tr>\n",
       "      <th>13</th>\n",
       "      <td>1</td>\n",
       "      <td>1</td>\n",
       "    </tr>\n",
       "    <tr>\n",
       "      <th>14</th>\n",
       "      <td>1</td>\n",
       "      <td>1</td>\n",
       "    </tr>\n",
       "    <tr>\n",
       "      <th>15</th>\n",
       "      <td>1</td>\n",
       "      <td>1</td>\n",
       "    </tr>\n",
       "    <tr>\n",
       "      <th>16</th>\n",
       "      <td>4</td>\n",
       "      <td>4</td>\n",
       "    </tr>\n",
       "    <tr>\n",
       "      <th>17</th>\n",
       "      <td>3</td>\n",
       "      <td>3</td>\n",
       "    </tr>\n",
       "    <tr>\n",
       "      <th>18</th>\n",
       "      <td>1</td>\n",
       "      <td>1</td>\n",
       "    </tr>\n",
       "    <tr>\n",
       "      <th>19</th>\n",
       "      <td>1</td>\n",
       "      <td>1</td>\n",
       "    </tr>\n",
       "    <tr>\n",
       "      <th>20</th>\n",
       "      <td>1</td>\n",
       "      <td>1</td>\n",
       "    </tr>\n",
       "    <tr>\n",
       "      <th>21</th>\n",
       "      <td>1</td>\n",
       "      <td>1</td>\n",
       "    </tr>\n",
       "    <tr>\n",
       "      <th>22</th>\n",
       "      <td>1</td>\n",
       "      <td>1</td>\n",
       "    </tr>\n",
       "    <tr>\n",
       "      <th>23</th>\n",
       "      <td>1</td>\n",
       "      <td>1</td>\n",
       "    </tr>\n",
       "    <tr>\n",
       "      <th>24</th>\n",
       "      <td>1</td>\n",
       "      <td>1</td>\n",
       "    </tr>\n",
       "    <tr>\n",
       "      <th>25</th>\n",
       "      <td>2</td>\n",
       "      <td>2</td>\n",
       "    </tr>\n",
       "    <tr>\n",
       "      <th>26</th>\n",
       "      <td>1</td>\n",
       "      <td>1</td>\n",
       "    </tr>\n",
       "    <tr>\n",
       "      <th>27</th>\n",
       "      <td>2</td>\n",
       "      <td>2</td>\n",
       "    </tr>\n",
       "    <tr>\n",
       "      <th>28</th>\n",
       "      <td>13</td>\n",
       "      <td>13</td>\n",
       "    </tr>\n",
       "    <tr>\n",
       "      <th>29</th>\n",
       "      <td>1</td>\n",
       "      <td>1</td>\n",
       "    </tr>\n",
       "    <tr>\n",
       "      <th>30</th>\n",
       "      <td>1</td>\n",
       "      <td>1</td>\n",
       "    </tr>\n",
       "    <tr>\n",
       "      <th>...</th>\n",
       "      <td>...</td>\n",
       "      <td>...</td>\n",
       "    </tr>\n",
       "    <tr>\n",
       "      <th>21606</th>\n",
       "      <td>1</td>\n",
       "      <td>1</td>\n",
       "    </tr>\n",
       "    <tr>\n",
       "      <th>21607</th>\n",
       "      <td>1</td>\n",
       "      <td>1</td>\n",
       "    </tr>\n",
       "    <tr>\n",
       "      <th>21608</th>\n",
       "      <td>1</td>\n",
       "      <td>1</td>\n",
       "    </tr>\n",
       "    <tr>\n",
       "      <th>21609</th>\n",
       "      <td>1</td>\n",
       "      <td>1</td>\n",
       "    </tr>\n",
       "    <tr>\n",
       "      <th>21610</th>\n",
       "      <td>1</td>\n",
       "      <td>1</td>\n",
       "    </tr>\n",
       "    <tr>\n",
       "      <th>21611</th>\n",
       "      <td>1</td>\n",
       "      <td>1</td>\n",
       "    </tr>\n",
       "    <tr>\n",
       "      <th>21612</th>\n",
       "      <td>1</td>\n",
       "      <td>1</td>\n",
       "    </tr>\n",
       "    <tr>\n",
       "      <th>21613</th>\n",
       "      <td>1</td>\n",
       "      <td>1</td>\n",
       "    </tr>\n",
       "    <tr>\n",
       "      <th>21614</th>\n",
       "      <td>1</td>\n",
       "      <td>1</td>\n",
       "    </tr>\n",
       "    <tr>\n",
       "      <th>21615</th>\n",
       "      <td>1</td>\n",
       "      <td>1</td>\n",
       "    </tr>\n",
       "    <tr>\n",
       "      <th>21616</th>\n",
       "      <td>1</td>\n",
       "      <td>1</td>\n",
       "    </tr>\n",
       "    <tr>\n",
       "      <th>21617</th>\n",
       "      <td>1</td>\n",
       "      <td>1</td>\n",
       "    </tr>\n",
       "    <tr>\n",
       "      <th>21618</th>\n",
       "      <td>1</td>\n",
       "      <td>1</td>\n",
       "    </tr>\n",
       "    <tr>\n",
       "      <th>21619</th>\n",
       "      <td>1</td>\n",
       "      <td>1</td>\n",
       "    </tr>\n",
       "    <tr>\n",
       "      <th>21620</th>\n",
       "      <td>1</td>\n",
       "      <td>1</td>\n",
       "    </tr>\n",
       "    <tr>\n",
       "      <th>21621</th>\n",
       "      <td>1</td>\n",
       "      <td>1</td>\n",
       "    </tr>\n",
       "    <tr>\n",
       "      <th>21622</th>\n",
       "      <td>1</td>\n",
       "      <td>1</td>\n",
       "    </tr>\n",
       "    <tr>\n",
       "      <th>21623</th>\n",
       "      <td>4</td>\n",
       "      <td>4</td>\n",
       "    </tr>\n",
       "    <tr>\n",
       "      <th>21624</th>\n",
       "      <td>4</td>\n",
       "      <td>4</td>\n",
       "    </tr>\n",
       "    <tr>\n",
       "      <th>21625</th>\n",
       "      <td>4</td>\n",
       "      <td>4</td>\n",
       "    </tr>\n",
       "    <tr>\n",
       "      <th>21626</th>\n",
       "      <td>5</td>\n",
       "      <td>5</td>\n",
       "    </tr>\n",
       "    <tr>\n",
       "      <th>21627</th>\n",
       "      <td>1</td>\n",
       "      <td>1</td>\n",
       "    </tr>\n",
       "    <tr>\n",
       "      <th>21628</th>\n",
       "      <td>16</td>\n",
       "      <td>16</td>\n",
       "    </tr>\n",
       "    <tr>\n",
       "      <th>21629</th>\n",
       "      <td>1</td>\n",
       "      <td>1</td>\n",
       "    </tr>\n",
       "    <tr>\n",
       "      <th>21630</th>\n",
       "      <td>1</td>\n",
       "      <td>1</td>\n",
       "    </tr>\n",
       "    <tr>\n",
       "      <th>21631</th>\n",
       "      <td>1</td>\n",
       "      <td>1</td>\n",
       "    </tr>\n",
       "    <tr>\n",
       "      <th>21632</th>\n",
       "      <td>1</td>\n",
       "      <td>1</td>\n",
       "    </tr>\n",
       "    <tr>\n",
       "      <th>21633</th>\n",
       "      <td>1</td>\n",
       "      <td>1</td>\n",
       "    </tr>\n",
       "    <tr>\n",
       "      <th>21634</th>\n",
       "      <td>5</td>\n",
       "      <td>5</td>\n",
       "    </tr>\n",
       "    <tr>\n",
       "      <th>21635</th>\n",
       "      <td>3</td>\n",
       "      <td>3</td>\n",
       "    </tr>\n",
       "  </tbody>\n",
       "</table>\n",
       "<p>21635 rows × 2 columns</p>\n",
       "</div>"
      ],
      "text/plain": [
       "        rno to_eid\n",
       "      count  count\n",
       "mid               \n",
       "1         1      1\n",
       "2         1      1\n",
       "3         1      1\n",
       "4         4      4\n",
       "5         2      2\n",
       "6         1      1\n",
       "7         1      1\n",
       "8         1      1\n",
       "9         1      1\n",
       "10        1      1\n",
       "11        1      1\n",
       "12        3      3\n",
       "13        1      1\n",
       "14        1      1\n",
       "15        1      1\n",
       "16        4      4\n",
       "17        3      3\n",
       "18        1      1\n",
       "19        1      1\n",
       "20        1      1\n",
       "21        1      1\n",
       "22        1      1\n",
       "23        1      1\n",
       "24        1      1\n",
       "25        2      2\n",
       "26        1      1\n",
       "27        2      2\n",
       "28       13     13\n",
       "29        1      1\n",
       "30        1      1\n",
       "...     ...    ...\n",
       "21606     1      1\n",
       "21607     1      1\n",
       "21608     1      1\n",
       "21609     1      1\n",
       "21610     1      1\n",
       "21611     1      1\n",
       "21612     1      1\n",
       "21613     1      1\n",
       "21614     1      1\n",
       "21615     1      1\n",
       "21616     1      1\n",
       "21617     1      1\n",
       "21618     1      1\n",
       "21619     1      1\n",
       "21620     1      1\n",
       "21621     1      1\n",
       "21622     1      1\n",
       "21623     4      4\n",
       "21624     4      4\n",
       "21625     4      4\n",
       "21626     5      5\n",
       "21627     1      1\n",
       "21628    16     16\n",
       "21629     1      1\n",
       "21630     1      1\n",
       "21631     1      1\n",
       "21632     1      1\n",
       "21633     1      1\n",
       "21634     5      5\n",
       "21635     3      3\n",
       "\n",
       "[21635 rows x 2 columns]"
      ]
     },
     "execution_count": 40,
     "metadata": {},
     "output_type": "execute_result"
    }
   ],
   "source": [
    "recipients.groupby('mid').agg(['count'])"
   ]
  },
  {
   "cell_type": "code",
   "execution_count": null,
   "metadata": {
    "collapsed": true
   },
   "outputs": [],
   "source": []
  },
  {
   "cell_type": "code",
   "execution_count": null,
   "metadata": {
    "collapsed": true
   },
   "outputs": [],
   "source": []
  },
  {
   "cell_type": "markdown",
   "metadata": {},
   "source": [
    "## 3. Data Merging\n",
    "\n",
    "Use the pandas merge function to combine the information in the 3 dataframes to answer the following questions:\n",
    "\n",
    "1. Are there more Men or Women employees?\n",
    "- How is gender distributed across departments?\n",
    "- Who is sending more emails? Men or Women?\n",
    "- What's the average number of emails sent by each gender?\n",
    "- Are there more Juniors or Seniors?\n",
    "- Who is sending more emails? Juniors or Seniors?\n",
    "- Which department is sending more emails? How does that relate with the number of employees in the department?\n",
    "- Who are the top 3 senders of emails? (people who sent out the most emails)"
   ]
  },
  {
   "cell_type": "code",
   "execution_count": null,
   "metadata": {
    "collapsed": true
   },
   "outputs": [],
   "source": []
  },
  {
   "cell_type": "code",
   "execution_count": null,
   "metadata": {
    "collapsed": true
   },
   "outputs": [],
   "source": []
  },
  {
   "cell_type": "code",
   "execution_count": null,
   "metadata": {
    "collapsed": true
   },
   "outputs": [],
   "source": []
  },
  {
   "cell_type": "code",
   "execution_count": null,
   "metadata": {
    "collapsed": true
   },
   "outputs": [],
   "source": []
  },
  {
   "cell_type": "code",
   "execution_count": null,
   "metadata": {
    "collapsed": true
   },
   "outputs": [],
   "source": []
  }
 ],
 "metadata": {
  "kernelspec": {
   "display_name": "Python 3",
   "language": "python",
   "name": "python3"
  },
  "language_info": {
   "codemirror_mode": {
    "name": "ipython",
    "version": 3
   },
   "file_extension": ".py",
   "mimetype": "text/x-python",
   "name": "python",
   "nbconvert_exporter": "python",
   "pygments_lexer": "ipython3",
   "version": "3.6.0"
  }
 },
 "nbformat": 4,
 "nbformat_minor": 0
}
